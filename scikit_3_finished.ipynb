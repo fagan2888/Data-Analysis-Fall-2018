{
 "cells": [
  {
   "cell_type": "markdown",
   "metadata": {},
   "source": [
    "# Machine learning III\n",
    "\n",
    "files needed = ('Hitters.csv')\n",
    "\n",
    "This book continues our foray into machine learning. Our goals here are modest. We would like to\n",
    "1. learn a bit about how machine learning is similar to, and different from, econometrics.  \n",
    "2. introduce the scikit-learn package which is chock full of 'machine learning' tools. \n",
    "3. work on some *validation* methods, which are an important part of the machine learning toolkit. \n",
    "4. explore the ridge and lasso regression models\n",
    "\n",
    "In this notebook, we study the ridge and lasso regressions. These are methods that put discipline on the importance of the independent variables of the regression.\n",
    "\n",
    "This notebook is loosely based on Chapter 6 from *An Introduction to Statistical Learning* by James, Witten, Hastie, and Tibshirani. This is an easy to follow introduction that is light on the mathematics behind the methods."
   ]
  },
  {
   "cell_type": "markdown",
   "metadata": {},
   "source": [
    "## Econometrics v. Statistical learning\n",
    "This is overly broad and general, but hopefully helpful. Consider the model\n",
    "\n",
    "$$ y = f(X) + \\epsilon.$$\n",
    "\n",
    "### Econometrics\n",
    "Econometrics is mainly concerned with *inference*. By this, we mean that the goal is to understand the structure of $f(\\;)$. Econometricians are concerned about the 'true' value of the components of $f(\\;)$. We worry a lot about endogeneity, omitted variables, and whether the properties of $f(\\;)$ are consistent with the theory.  Practically, \n",
    "\n",
    "1. The $X$ variables included in the model are guided by theory.\n",
    "2. The focus is on in-sample fit. How well does the model fit the data?\n",
    "\n",
    "### Statistical (machine) learning\n",
    "Statistical learning is mainly concerned with *prediction*. By this, we mean the ability of the model to predict the values of $y$, given $X$, for data that are not used to estimate (or, in machine learning-ese, train) the model of $f(\\;)$. The guiding principle here is the *bias-variance tradeoff*. \\[more on this in a minute\\]. Practically, \n",
    "\n",
    "1. The $X$ variables included in the model are guided by the mean-variance tradeoff. \n",
    "2. The focus is on out-of-sample fit. How well does the model predict data not used to estimate the model?\n",
    "\n",
    "\\[The bias-variance tradeoff exist in econometrics, too. Theory typically disciplines our definition of $X$.\n",
    "\n"
   ]
  },
  {
   "cell_type": "markdown",
   "metadata": {},
   "source": [
    "### Evaluating model predictions\n",
    "\n",
    "The fundamental constraint in machine learning is the *bias-variance tradeoff*. Roughly speaking, there is no free lunch. \n",
    "\n",
    "Let's start with an example. Suppose we wanted to predict the number of people on the union terrace on a Friday. For 5 Fridays, we send out a team to count the number of people on the terrace (the $y$ variable). We also record the temperature, the price of beer, if it is a home football weekend, the value of the stock market, the number of sailboats on Mendota, and the euro-dollar exchange rate (the $X$ variables).  \n",
    "\n",
    "We use the data to estimate our model $y=f(X)+\\epsilon$ and use the $X$ data for a 6th Friday to predict the number of people on the terrace, $\\hat{y}$. We then evaluate our estimate by comparing our prediction to the actual number of people on the terrace on the 6th Friday, $(y - \\hat{y})^2$. This is a measure of how well our model works at predicting **out of sample**. \n",
    "\n",
    "Now, suppose we repeat this experiment $M$ times. We collect $M$ data sets, estimate the model $M$ times, predict the 6th Friday $M$ times. We can form the expected test mse as\n",
    "\n",
    "$$\\frac{1}{M}\\sum_{m=1}^M(y_m-\\hat{y}_m)^2$$\n",
    "\n",
    "It is straightforward to show that this expression can be decomposed into \n",
    "\n",
    "$$\\begin{align*}\n",
    "\\frac{1}{M}\\sum_{m=1}^M(y_m-\\hat{y}_m)^2 & = \\left(E\\left[\\,\\hat{f}(X)\\right]-f(X) \\right)^2 + E\\,\\left(\\,\\hat{f}(X)-E\\left[\\,\\hat{f}(X)\\right]\\right)^2 + \\text{var}(\\epsilon)\\\\\n",
    "                                         &= \\text{bias}^2 + \\text{variance} + \\text{var}(\\epsilon).\\\\\n",
    "\\end{align*}$$\n",
    "\n",
    "Note that all three terms are positive. We can't do anything about the third term, it is the *irreducible* error. The other two terms we would like to make as small as possible. Unfortunately, shrinking one of the two terms tends to increase the other term. "
   ]
  },
  {
   "cell_type": "markdown",
   "metadata": {},
   "source": [
    "### Bias and variance\n",
    "The **bias term** tells us, on average, how close we get to the true model. Are we systematically over- or under-predicting $y$?\n",
    "\n",
    "The **variance term** tells us how much our estimates vary as we use different training datasets to estimate the model.\n",
    "\n",
    "Quick check: Think about shooting arrows at a target. What does a low-variance high-bias attempt look like? A low-bias low-variance look like?"
   ]
  },
  {
   "cell_type": "markdown",
   "metadata": {},
   "source": [
    "### The bias-variance tradeoff\n",
    "\n",
    "We would like to minimize the bias and the variance of the test mse. How can we do so? \n",
    "\n",
    "In the linear models we are considering, complexity increases as we add more variables to $X$. This includes adding polynomials of our independent variables, interactions, etc. How does complexity influence the testing error?  \n",
    "\n",
    "* As we **increase the complexity** of our model $f(\\;)$ the **squared bias tends to decrease**. \n",
    "\n",
    "* As we **increase the complexity** of our model $f(\\;)$ the **variance tends to increase**.\n",
    "\n",
    "This is the tradeoff. As we add features to the model, the bias decreases, but the variance increases. This gives rise to a u-shaped mse. This [figure](http://www-bcf.usc.edu/~gareth/ISL/Chapter2/2.12.pdf) from James et al. is a good illustration. "
   ]
  },
  {
   "cell_type": "markdown",
   "metadata": {},
   "source": [
    "### Overfitting\n",
    "\n",
    "Behind the bias-variance tradoff is the idea of overfitting. The more complex the model, the more it will capture variation in $y$ due to the random error ($\\epsilon$). \n",
    "\n",
    "* This makes the model fit the data better (lower bias). We are capturing $y$ behavior from both $f(\\;)$ and $\\epsilon$.\n",
    "* This makes the model more variable. A new set of training data will have different $\\epsilon$s. The estimate will change to match these new values of $\\epsilon$. Since $\\epsilon$ is not related to $f(\\;)$, we are making the estimate noisier."
   ]
  },
  {
   "cell_type": "markdown",
   "metadata": {},
   "source": [
    "## Shrinkage methods\n",
    "The bias-variance tradeoff says that we want to constrain our model's complexity. There are many, many, many ways to go about this. For linear models, two common and easy to grasp methods are the ridge and the lasso regression. \n",
    "\n",
    "Let's see how they work. "
   ]
  },
  {
   "cell_type": "code",
   "execution_count": 1,
   "metadata": {},
   "outputs": [],
   "source": [
    "import pandas as pd                 # data handling\n",
    "import numpy as np                  # numerical methods\n",
    "import matplotlib.pyplot as plt     # plots"
   ]
  },
  {
   "cell_type": "markdown",
   "metadata": {},
   "source": [
    "Load data on baseball players. Each row is a player. The variable we would like to predict is salary."
   ]
  },
  {
   "cell_type": "code",
   "execution_count": 2,
   "metadata": {},
   "outputs": [
    {
     "name": "stdout",
     "output_type": "stream",
     "text": [
      "<class 'pandas.core.frame.DataFrame'>\n",
      "RangeIndex: 322 entries, 0 to 321\n",
      "Data columns (total 21 columns):\n",
      "Unnamed: 0    322 non-null object\n",
      "AtBat         322 non-null int64\n",
      "Hits          322 non-null int64\n",
      "HmRun         322 non-null int64\n",
      "Runs          322 non-null int64\n",
      "RBI           322 non-null int64\n",
      "Walks         322 non-null int64\n",
      "Years         322 non-null int64\n",
      "CAtBat        322 non-null int64\n",
      "CHits         322 non-null int64\n",
      "CHmRun        322 non-null int64\n",
      "CRuns         322 non-null int64\n",
      "CRBI          322 non-null int64\n",
      "CWalks        322 non-null int64\n",
      "League        322 non-null object\n",
      "Division      322 non-null object\n",
      "PutOuts       322 non-null int64\n",
      "Assists       322 non-null int64\n",
      "Errors        322 non-null int64\n",
      "Salary        263 non-null float64\n",
      "NewLeague     322 non-null object\n",
      "dtypes: float64(1), int64(16), object(4)\n",
      "memory usage: 52.9+ KB\n",
      "None\n"
     ]
    }
   ],
   "source": [
    "base = pd.read_csv('Hitters.csv')\n",
    "print(base.info())"
   ]
  },
  {
   "cell_type": "code",
   "execution_count": 3,
   "metadata": {},
   "outputs": [
    {
     "data": {
      "text/html": [
       "<div>\n",
       "<style scoped>\n",
       "    .dataframe tbody tr th:only-of-type {\n",
       "        vertical-align: middle;\n",
       "    }\n",
       "\n",
       "    .dataframe tbody tr th {\n",
       "        vertical-align: top;\n",
       "    }\n",
       "\n",
       "    .dataframe thead th {\n",
       "        text-align: right;\n",
       "    }\n",
       "</style>\n",
       "<table border=\"1\" class=\"dataframe\">\n",
       "  <thead>\n",
       "    <tr style=\"text-align: right;\">\n",
       "      <th></th>\n",
       "      <th>Unnamed: 0</th>\n",
       "      <th>AtBat</th>\n",
       "      <th>Hits</th>\n",
       "      <th>HmRun</th>\n",
       "      <th>Runs</th>\n",
       "      <th>RBI</th>\n",
       "      <th>Walks</th>\n",
       "      <th>Years</th>\n",
       "      <th>CAtBat</th>\n",
       "      <th>CHits</th>\n",
       "      <th>...</th>\n",
       "      <th>CRuns</th>\n",
       "      <th>CRBI</th>\n",
       "      <th>CWalks</th>\n",
       "      <th>League</th>\n",
       "      <th>Division</th>\n",
       "      <th>PutOuts</th>\n",
       "      <th>Assists</th>\n",
       "      <th>Errors</th>\n",
       "      <th>Salary</th>\n",
       "      <th>NewLeague</th>\n",
       "    </tr>\n",
       "  </thead>\n",
       "  <tbody>\n",
       "    <tr>\n",
       "      <th>0</th>\n",
       "      <td>-Andy Allanson</td>\n",
       "      <td>293</td>\n",
       "      <td>66</td>\n",
       "      <td>1</td>\n",
       "      <td>30</td>\n",
       "      <td>29</td>\n",
       "      <td>14</td>\n",
       "      <td>1</td>\n",
       "      <td>293</td>\n",
       "      <td>66</td>\n",
       "      <td>...</td>\n",
       "      <td>30</td>\n",
       "      <td>29</td>\n",
       "      <td>14</td>\n",
       "      <td>A</td>\n",
       "      <td>E</td>\n",
       "      <td>446</td>\n",
       "      <td>33</td>\n",
       "      <td>20</td>\n",
       "      <td>NaN</td>\n",
       "      <td>A</td>\n",
       "    </tr>\n",
       "    <tr>\n",
       "      <th>1</th>\n",
       "      <td>-Alan Ashby</td>\n",
       "      <td>315</td>\n",
       "      <td>81</td>\n",
       "      <td>7</td>\n",
       "      <td>24</td>\n",
       "      <td>38</td>\n",
       "      <td>39</td>\n",
       "      <td>14</td>\n",
       "      <td>3449</td>\n",
       "      <td>835</td>\n",
       "      <td>...</td>\n",
       "      <td>321</td>\n",
       "      <td>414</td>\n",
       "      <td>375</td>\n",
       "      <td>N</td>\n",
       "      <td>W</td>\n",
       "      <td>632</td>\n",
       "      <td>43</td>\n",
       "      <td>10</td>\n",
       "      <td>475.0</td>\n",
       "      <td>N</td>\n",
       "    </tr>\n",
       "  </tbody>\n",
       "</table>\n",
       "<p>2 rows × 21 columns</p>\n",
       "</div>"
      ],
      "text/plain": [
       "       Unnamed: 0  AtBat  Hits  HmRun  Runs  RBI  Walks  Years  CAtBat  CHits  \\\n",
       "0  -Andy Allanson    293    66      1    30   29     14      1     293     66   \n",
       "1     -Alan Ashby    315    81      7    24   38     39     14    3449    835   \n",
       "\n",
       "     ...      CRuns  CRBI  CWalks  League Division PutOuts  Assists  Errors  \\\n",
       "0    ...         30    29      14       A        E     446       33      20   \n",
       "1    ...        321   414     375       N        W     632       43      10   \n",
       "\n",
       "   Salary  NewLeague  \n",
       "0     NaN          A  \n",
       "1   475.0          N  \n",
       "\n",
       "[2 rows x 21 columns]"
      ]
     },
     "execution_count": 3,
     "metadata": {},
     "output_type": "execute_result"
    }
   ],
   "source": [
    "base.head(2)"
   ]
  },
  {
   "cell_type": "markdown",
   "metadata": {},
   "source": [
    "The data look okay, but we only have salary for 263 observations. Let's drop them. "
   ]
  },
  {
   "cell_type": "code",
   "execution_count": 4,
   "metadata": {},
   "outputs": [
    {
     "name": "stdout",
     "output_type": "stream",
     "text": [
      "<class 'pandas.core.frame.DataFrame'>\n",
      "Int64Index: 263 entries, 1 to 321\n",
      "Data columns (total 21 columns):\n",
      "Unnamed: 0    263 non-null object\n",
      "AtBat         263 non-null int64\n",
      "Hits          263 non-null int64\n",
      "HmRun         263 non-null int64\n",
      "Runs          263 non-null int64\n",
      "RBI           263 non-null int64\n",
      "Walks         263 non-null int64\n",
      "Years         263 non-null int64\n",
      "CAtBat        263 non-null int64\n",
      "CHits         263 non-null int64\n",
      "CHmRun        263 non-null int64\n",
      "CRuns         263 non-null int64\n",
      "CRBI          263 non-null int64\n",
      "CWalks        263 non-null int64\n",
      "League        263 non-null object\n",
      "Division      263 non-null object\n",
      "PutOuts       263 non-null int64\n",
      "Assists       263 non-null int64\n",
      "Errors        263 non-null int64\n",
      "Salary        263 non-null float64\n",
      "NewLeague     263 non-null object\n",
      "dtypes: float64(1), int64(16), object(4)\n",
      "memory usage: 45.2+ KB\n"
     ]
    }
   ],
   "source": [
    "base = base.dropna()\n",
    "base.info()"
   ]
  },
  {
   "cell_type": "markdown",
   "metadata": {},
   "source": [
    "### OLS\n",
    "\n",
    "Let's start with ols to get a feel for things. Start by loading some packages."
   ]
  },
  {
   "cell_type": "code",
   "execution_count": 5,
   "metadata": {},
   "outputs": [],
   "source": [
    "from sklearn import linear_model                          # ols, ridge, lasso, \n",
    "from sklearn.preprocessing import StandardScaler          # normalize variables to have mu=0, std=1"
   ]
  },
  {
   "cell_type": "markdown",
   "metadata": {},
   "source": [
    "Let's choose some variables that are potentially useful for predicting salary. We are purposely making this set large. The goal is determine how to constrain our choices. \n",
    "\n",
    "The ridge regression works best if the $X$ variables are on the same scale. The `StandardScaler()` normalizes the variables."
   ]
  },
  {
   "cell_type": "code",
   "execution_count": 6,
   "metadata": {},
   "outputs": [],
   "source": [
    "var_list = ['Hits', 'RBI', 'HmRun', 'Walks', 'Errors', 'Years', 'Assists', 'AtBat', 'Runs', 'CAtBat', 'CHits', 'CRuns', 'CWalks']\n",
    "\n",
    "# Standardize the X vars so they have mean = 0 and std = 1\n",
    "X = StandardScaler().fit_transform(base[var_list])"
   ]
  },
  {
   "cell_type": "markdown",
   "metadata": {},
   "source": [
    "Estimate the OLS regression. Don't worry about the l2 norm stuff yet. "
   ]
  },
  {
   "cell_type": "code",
   "execution_count": 7,
   "metadata": {},
   "outputs": [
    {
     "name": "stdout",
     "output_type": "stream",
     "text": [
      "[ 342.86853172   56.76095882   31.72386749  150.31756567  -10.80513874\n",
      "  -28.76438817   25.9039893  -299.7189859   -95.89253928 -346.33866351\n",
      "  257.07761972  448.22175687 -157.44988341]\n",
      "The l2 norm of the ols coefficients is 810.4.\n"
     ]
    }
   ],
   "source": [
    "res_ols = linear_model.LinearRegression().fit(X, base['Salary'])\n",
    "coef_norm_ols = np.linalg.norm(res_ols.coef_, ord=2)\n",
    "\n",
    "print(res_ols.coef_)\n",
    "print('The l2 norm of the ols coefficients is {0:5.1f}.'.format(coef_norm_ols))"
   ]
  },
  {
   "cell_type": "markdown",
   "metadata": {},
   "source": [
    "## The ridge regression\n",
    "\n",
    "The ridge regression chooses $f(\\;)$ to minimize the residual sum of squares plus a penalty function \n",
    "\n",
    "$$\n",
    "\\begin{align*}\n",
    "=& \\text{RSS}+ \\alpha \\left(\\sum_{j=1}^p \\beta_j^2\\right)^{0.5}\\\\\n",
    "=&\\sum_{i=1}^n(y_i-\\hat{y}_i)^2 + \\alpha \\left(\\sum_{j=1}^p \\beta_j^2\\right)^{0.5}\n",
    "\\end{align*}\n",
    "$$\n",
    "\n",
    "OLS minimizes RSS, so if $\\alpha=0$ ridge collapses to OLS. We call $\\alpha$ the tuning parameter. When $\\alpha>0$, models are penalized for how large their coefficients are. The term multiplying $\\alpha$ is the l2 norm of the coefficient vector.  \n",
    "\n",
    "The `Ridge()` function is part of `linear_models` in scikit-learn [(docs)](https://scikit-learn.org/stable/modules/generated/sklearn.linear_model.Ridge.html). "
   ]
  },
  {
   "cell_type": "markdown",
   "metadata": {},
   "source": [
    "First, let's estimate the model with $\\alpha=0$. This should return the ols estimate. "
   ]
  },
  {
   "cell_type": "code",
   "execution_count": 8,
   "metadata": {},
   "outputs": [
    {
     "name": "stdout",
     "output_type": "stream",
     "text": [
      "[ 342.86853172   56.76095882   31.72386749  150.31756567  -10.80513874\n",
      "  -28.76438817   25.9039893  -299.7189859   -95.89253928 -346.33866351\n",
      "  257.07761972  448.22175687 -157.44988341]\n",
      "The l2 norm of the ridge(a=0) coefficients is 810.4.\n"
     ]
    }
   ],
   "source": [
    "res_ridge_0 = linear_model.Ridge(alpha = 0.0).fit(X, base['Salary'])\n",
    "coef_norm_r0 = np.linalg.norm(res_ridge_0.coef_, ord=2)\n",
    "\n",
    "print(res_ridge_0.coef_)\n",
    "print('The l2 norm of the ridge(a=0) coefficients is {0:5.1f}.'.format(coef_norm_r0))"
   ]
  },
  {
   "cell_type": "markdown",
   "metadata": {},
   "source": [
    "Now estimate the ridge model with $\\alpha=100$. This adds a penalty to each coefficient that is not zero. "
   ]
  },
  {
   "cell_type": "code",
   "execution_count": 9,
   "metadata": {},
   "outputs": [
    {
     "name": "stdout",
     "output_type": "stream",
     "text": [
      "[ 52.15138012  38.4847365    8.50483461  50.13721432 -11.04140017\n",
      "   5.05574661  -2.28073256   2.33576236  26.24338138  38.80799151\n",
      "  59.32436779  59.90473347  20.04176666]\n",
      "The l2 norm of the ridge(a=100) coefficients is 129.0.\n"
     ]
    }
   ],
   "source": [
    "res_ridge_100 = linear_model.Ridge(alpha = 100.0).fit(X, base['Salary'])\n",
    "coef_norm_r100 = np.linalg.norm(res_ridge_100.coef_, ord=2)\n",
    "\n",
    "print(res_ridge_100.coef_)\n",
    "print('The l2 norm of the ridge(a=100) coefficients is {0:5.1f}.'.format(coef_norm_r100))"
   ]
  },
  {
   "cell_type": "markdown",
   "metadata": {},
   "source": [
    "That decreased the norm of the coefficients quite a bit. We can keep going... "
   ]
  },
  {
   "cell_type": "code",
   "execution_count": 10,
   "metadata": {},
   "outputs": [
    {
     "name": "stdout",
     "output_type": "stream",
     "text": [
      "[24.26292247 22.88938261 14.84319012 25.27605131 -2.84991212 17.94244586\n",
      " -0.10430381 17.54807161 21.14484914 27.12005935 30.11332925 30.81759733\n",
      " 23.94825642]\n",
      "The l2 norm of the ridge(a=800) coefficients is  78.9.\n"
     ]
    }
   ],
   "source": [
    "res_ridge_800 = linear_model.Ridge(alpha = 800.0).fit(X, base['Salary'])\n",
    "coef_norm_r800 = np.linalg.norm(res_ridge_800.coef_, ord=2)\n",
    "\n",
    "print(res_ridge_800.coef_)\n",
    "print('The l2 norm of the ridge(a=800) coefficients is {0:5.1f}.'.format(coef_norm_r800))\n"
   ]
  },
  {
   "cell_type": "code",
   "execution_count": 11,
   "metadata": {},
   "outputs": [
    {
     "data": {
      "text/html": [
       "<div>\n",
       "<style scoped>\n",
       "    .dataframe tbody tr th:only-of-type {\n",
       "        vertical-align: middle;\n",
       "    }\n",
       "\n",
       "    .dataframe tbody tr th {\n",
       "        vertical-align: top;\n",
       "    }\n",
       "\n",
       "    .dataframe thead th {\n",
       "        text-align: right;\n",
       "    }\n",
       "</style>\n",
       "<table border=\"1\" class=\"dataframe\">\n",
       "  <thead>\n",
       "    <tr style=\"text-align: right;\">\n",
       "      <th></th>\n",
       "      <th>var</th>\n",
       "      <th>ols</th>\n",
       "      <th>ridge 100</th>\n",
       "      <th>ridge 800</th>\n",
       "    </tr>\n",
       "  </thead>\n",
       "  <tbody>\n",
       "    <tr>\n",
       "      <th>0</th>\n",
       "      <td>Hits</td>\n",
       "      <td>342.868532</td>\n",
       "      <td>52.151380</td>\n",
       "      <td>24.262922</td>\n",
       "    </tr>\n",
       "    <tr>\n",
       "      <th>1</th>\n",
       "      <td>RBI</td>\n",
       "      <td>56.760959</td>\n",
       "      <td>38.484737</td>\n",
       "      <td>22.889383</td>\n",
       "    </tr>\n",
       "    <tr>\n",
       "      <th>2</th>\n",
       "      <td>HmRun</td>\n",
       "      <td>31.723867</td>\n",
       "      <td>8.504835</td>\n",
       "      <td>14.843190</td>\n",
       "    </tr>\n",
       "    <tr>\n",
       "      <th>3</th>\n",
       "      <td>Walks</td>\n",
       "      <td>150.317566</td>\n",
       "      <td>50.137214</td>\n",
       "      <td>25.276051</td>\n",
       "    </tr>\n",
       "    <tr>\n",
       "      <th>4</th>\n",
       "      <td>Errors</td>\n",
       "      <td>-10.805139</td>\n",
       "      <td>-11.041400</td>\n",
       "      <td>-2.849912</td>\n",
       "    </tr>\n",
       "    <tr>\n",
       "      <th>5</th>\n",
       "      <td>Years</td>\n",
       "      <td>-28.764388</td>\n",
       "      <td>5.055747</td>\n",
       "      <td>17.942446</td>\n",
       "    </tr>\n",
       "    <tr>\n",
       "      <th>6</th>\n",
       "      <td>Assists</td>\n",
       "      <td>25.903989</td>\n",
       "      <td>-2.280733</td>\n",
       "      <td>-0.104304</td>\n",
       "    </tr>\n",
       "    <tr>\n",
       "      <th>7</th>\n",
       "      <td>AtBat</td>\n",
       "      <td>-299.718986</td>\n",
       "      <td>2.335762</td>\n",
       "      <td>17.548072</td>\n",
       "    </tr>\n",
       "    <tr>\n",
       "      <th>8</th>\n",
       "      <td>Runs</td>\n",
       "      <td>-95.892539</td>\n",
       "      <td>26.243381</td>\n",
       "      <td>21.144849</td>\n",
       "    </tr>\n",
       "    <tr>\n",
       "      <th>9</th>\n",
       "      <td>CAtBat</td>\n",
       "      <td>-346.338664</td>\n",
       "      <td>38.807992</td>\n",
       "      <td>27.120059</td>\n",
       "    </tr>\n",
       "    <tr>\n",
       "      <th>10</th>\n",
       "      <td>CHits</td>\n",
       "      <td>257.077620</td>\n",
       "      <td>59.324368</td>\n",
       "      <td>30.113329</td>\n",
       "    </tr>\n",
       "    <tr>\n",
       "      <th>11</th>\n",
       "      <td>CRuns</td>\n",
       "      <td>448.221757</td>\n",
       "      <td>59.904733</td>\n",
       "      <td>30.817597</td>\n",
       "    </tr>\n",
       "    <tr>\n",
       "      <th>12</th>\n",
       "      <td>CWalks</td>\n",
       "      <td>-157.449883</td>\n",
       "      <td>20.041767</td>\n",
       "      <td>23.948256</td>\n",
       "    </tr>\n",
       "  </tbody>\n",
       "</table>\n",
       "</div>"
      ],
      "text/plain": [
       "        var         ols  ridge 100  ridge 800\n",
       "0      Hits  342.868532  52.151380  24.262922\n",
       "1       RBI   56.760959  38.484737  22.889383\n",
       "2     HmRun   31.723867   8.504835  14.843190\n",
       "3     Walks  150.317566  50.137214  25.276051\n",
       "4    Errors  -10.805139 -11.041400  -2.849912\n",
       "5     Years  -28.764388   5.055747  17.942446\n",
       "6   Assists   25.903989  -2.280733  -0.104304\n",
       "7     AtBat -299.718986   2.335762  17.548072\n",
       "8      Runs  -95.892539  26.243381  21.144849\n",
       "9    CAtBat -346.338664  38.807992  27.120059\n",
       "10    CHits  257.077620  59.324368  30.113329\n",
       "11    CRuns  448.221757  59.904733  30.817597\n",
       "12   CWalks -157.449883  20.041767  23.948256"
      ]
     },
     "execution_count": 11,
     "metadata": {},
     "output_type": "execute_result"
    }
   ],
   "source": [
    "pd.DataFrame({'var': var_list, 'ols': res_ols.coef_ , 'ridge 100':res_ridge_100.coef_, 'ridge 800':res_ridge_800.coef_ })\n"
   ]
  },
  {
   "cell_type": "markdown",
   "metadata": {},
   "source": [
    "### What size penalty? \n",
    "\n",
    "We see that increasing $\\alpha$ decreases the norm of the coefficients. How big should $\\alpha$ be? We want the $\\alpha$ that gives us the best test mse. As we discussed last week, cross-validation methods allow us to evaluate test mses.\n",
    "\n",
    "The scikit package has a method that combines the ridge estimation with cross validation. It is called `RidgeCV()` [(docs)](https://scikit-learn.org/stable/modules/generated/sklearn.linear_model.RidgeCV.html)."
   ]
  },
  {
   "cell_type": "markdown",
   "metadata": {},
   "source": [
    "We pass to `RidgeCV()` a list of the alpha values to try. "
   ]
  },
  {
   "cell_type": "code",
   "execution_count": 12,
   "metadata": {},
   "outputs": [],
   "source": [
    "alpha_grid = [1e-3, 1e-2, 1e-1, 1, 1e2, 1e3, 1e4]\n",
    "\n",
    "# Setting 'store_cv_values' to true will hang on to all the test mses from the CV. Otherwise, it only keep the best one.\n",
    "model = linear_model.RidgeCV(alphas=alpha_grid, store_cv_values = True).fit(X,base['Salary'])"
   ]
  },
  {
   "cell_type": "markdown",
   "metadata": {},
   "source": [
    "The function returns an object with useful attributes and methods. Let's look at a few."
   ]
  },
  {
   "cell_type": "code",
   "execution_count": 13,
   "metadata": {},
   "outputs": [
    {
     "name": "stdout",
     "output_type": "stream",
     "text": [
      "The best alpha from the candidate alphas is 1.0.\n"
     ]
    }
   ],
   "source": [
    "# The .alpha_ holds the best alpha\n",
    "print('The best alpha from the candidate alphas is {0}.'.format(model.alpha_))"
   ]
  },
  {
   "cell_type": "code",
   "execution_count": 14,
   "metadata": {},
   "outputs": [
    {
     "name": "stdout",
     "output_type": "stream",
     "text": [
      "        var        coef\n",
      "0      Hits  309.382723\n",
      "1       RBI   61.508414\n",
      "2     HmRun   21.763078\n",
      "3     Walks  140.610067\n",
      "4    Errors  -12.050349\n",
      "5     Years  -47.933631\n",
      "6   Assists   19.984472\n",
      "7     AtBat -277.165125\n",
      "8      Runs  -70.493630\n",
      "9    CAtBat -173.607372\n",
      "10    CHits  177.955937\n",
      "11    CRuns  355.839427\n",
      "12   CWalks -139.569671\n"
     ]
    }
   ],
   "source": [
    "best_coef_ridge = pd.DataFrame({'var':var_list, 'coef': model.coef_}) \n",
    "print(best_coef_ridge)"
   ]
  },
  {
   "cell_type": "code",
   "execution_count": 15,
   "metadata": {},
   "outputs": [
    {
     "name": "stdout",
     "output_type": "stream",
     "text": [
      "[[3.02843609e+04 3.01781068e+04 2.91875911e+04 ... 2.44419200e+00\n",
      "  1.35781601e+03 3.14392936e+03]\n",
      " [4.90961822e+04 4.90869411e+04 4.89995087e+04 ... 1.81722250e+04\n",
      "  9.46378842e+03 4.23064769e+03]\n",
      " [3.58334242e+05 3.58009759e+05 3.54643288e+05 ... 1.34723883e+05\n",
      "  5.49162558e+04 6.19574577e+03]\n",
      " ...\n",
      " [3.57189181e+03 3.58819796e+03 3.73565465e+03 ... 1.18305515e+04\n",
      "  1.32823134e+04 2.04707709e+04]\n",
      " [8.11076387e+04 8.10128280e+04 8.01251664e+04 ... 4.62882943e+04\n",
      "  8.80650163e+04 1.58284001e+05]\n",
      " [2.87812484e+04 2.89069399e+04 3.01449649e+04 ... 4.67532198e+04\n",
      "  9.66306892e+04 1.87097272e+05]]\n",
      "(263, 7)\n"
     ]
    }
   ],
   "source": [
    "# Since I set 'store_cv_values' to true, I have the matrix of all the test mse. Columns correspond to alpha values, \n",
    "# and there is one row for each observation, since the function uses loocv\n",
    "\n",
    "print(model.cv_values_)\n",
    "print(model.cv_values_.shape)"
   ]
  },
  {
   "cell_type": "code",
   "execution_count": 16,
   "metadata": {},
   "outputs": [
    {
     "data": {
      "text/plain": [
       "array([124401.99686713, 124327.02083352, 123702.9384668 , 121624.58267113,\n",
       "       125267.96774173, 136848.44181746, 184530.51723419])"
      ]
     },
     "execution_count": 16,
     "metadata": {},
     "output_type": "execute_result"
    }
   ],
   "source": [
    "# The mean test mse for each value of alpha\n",
    "model.cv_values_.mean(axis=0)"
   ]
  },
  {
   "cell_type": "markdown",
   "metadata": {},
   "source": [
    "## The lasso regression\n",
    "The lasso regression works like the ridge, but with a different penalty function. \n",
    "\n",
    "$$\n",
    "\\begin{align*}\n",
    "=& \\text{RSS}+ \\alpha \\sum_{j=1}^p | \\beta_j|\\\\\n",
    "=&\\sum_{i=1}^n(y_i-\\hat{y}_i)^2 + \\alpha \\sum_{j=1}^p | \\beta_j|\n",
    "\\end{align*}\n",
    "$$\n",
    "\n",
    "The penalty function here is the l1 norm, or the sum of the absolute values of the absolute values of the coefficient. The major difference between the ridge and the lasso is that the lasso can generate coefficients that are zero, dropping them from the model and making it simpler.\n",
    "\n",
    "The `Lasso` regression is part of `linear_models` in scikit-learn [(docs)](https://scikit-learn.org/stable/modules/generated/sklearn.linear_model.Lasso.html).   "
   ]
  },
  {
   "cell_type": "code",
   "execution_count": 17,
   "metadata": {},
   "outputs": [
    {
     "name": "stdout",
     "output_type": "stream",
     "text": [
      "[ 342.89783759   56.76284806   31.72132886  150.32357815  -10.80369482\n",
      "  -28.78042787   25.90056085 -299.74466361  -95.90077659 -346.15890107\n",
      "  256.90508626  448.24973975 -157.47305179]\n",
      "The l2 norm of the lasso(a=0) coefficients is 2251.6.\n"
     ]
    },
    {
     "name": "stderr",
     "output_type": "stream",
     "text": [
      "C:\\ProgramData\\Anaconda3\\lib\\site-packages\\ipykernel_launcher.py:1: UserWarning: With alpha=0, this algorithm does not converge well. You are advised to use the LinearRegression estimator\n",
      "  \"\"\"Entry point for launching an IPython kernel.\n",
      "C:\\ProgramData\\Anaconda3\\lib\\site-packages\\sklearn\\linear_model\\coordinate_descent.py:477: UserWarning: Coordinate descent with no regularization may lead to unexpected results and is discouraged.\n",
      "  positive)\n",
      "C:\\ProgramData\\Anaconda3\\lib\\site-packages\\sklearn\\linear_model\\coordinate_descent.py:491: ConvergenceWarning: Objective did not converge. You might want to increase the number of iterations. Fitting data with very small alpha may cause precision problems.\n",
      "  ConvergenceWarning)\n"
     ]
    }
   ],
   "source": [
    "res_lasso_0 = linear_model.Lasso(alpha = 0.0).fit(X, base['Salary'])\n",
    "coef_norm_l0 = np.linalg.norm(res_lasso_0.coef_, ord=1)\n",
    "\n",
    "print(res_lasso_0.coef_)\n",
    "print('The l2 norm of the lasso(a=0) coefficients is {0:5.1f}.'.format(coef_norm_l0))"
   ]
  },
  {
   "cell_type": "code",
   "execution_count": 18,
   "metadata": {},
   "outputs": [
    {
     "name": "stdout",
     "output_type": "stream",
     "text": [
      "        var     lasso 2\n",
      "0      Hits  289.542400\n",
      "1       RBI   68.101418\n",
      "2     HmRun    2.138459\n",
      "3     Walks  123.811873\n",
      "4    Errors   -3.454889\n",
      "5     Years  -47.045848\n",
      "6   Assists    4.797088\n",
      "7     AtBat -260.218269\n",
      "8      Runs  -41.705288\n",
      "9    CAtBat   -0.000000\n",
      "10    CHits   10.262085\n",
      "11    CRuns  336.280067\n",
      "12   CWalks -123.029009\n",
      "\n",
      "The l1 norm of the lasso(a=2) coefficients is 1310.4.\n"
     ]
    }
   ],
   "source": [
    "res_lasso_2 = linear_model.Lasso(alpha = 2.0).fit(X, base['Salary'])\n",
    "coef_norm_2 = np.linalg.norm(res_lasso_2.coef_, ord=1)\n",
    "\n",
    "lassos = pd.DataFrame({'var':var_list, 'lasso 2': res_lasso_2.coef_}) \n",
    "print(lassos)\n",
    "print('\\nThe l1 norm of the lasso(a=2) coefficients is {0:5.1f}.'.format(coef_norm_2))"
   ]
  },
  {
   "cell_type": "markdown",
   "metadata": {},
   "source": [
    "## Practice\n",
    "Take a few minutes and try the following. Feel free to chat with those around if you get stuck. The TA and I are here, too."
   ]
  },
  {
   "cell_type": "markdown",
   "metadata": {},
   "source": [
    "1. Try estimating a lasso regression when $\\alpha = 5$. Compare the coefficient vector to the lasso with $\\alpha=2$ from above."
   ]
  },
  {
   "cell_type": "code",
   "execution_count": 19,
   "metadata": {},
   "outputs": [
    {
     "name": "stdout",
     "output_type": "stream",
     "text": [
      "        var     lasso 2     lasso 5\n",
      "0      Hits  289.542400  187.192908\n",
      "1       RBI   68.101418   53.895913\n",
      "2     HmRun    2.138459    0.000000\n",
      "3     Walks  123.811873   84.479341\n",
      "4    Errors   -3.454889   -4.387499\n",
      "5     Years  -47.045848  -25.720740\n",
      "6   Assists    4.797088   -0.000000\n",
      "7     AtBat -260.218269 -144.987736\n",
      "8      Runs  -41.705288   -0.000000\n",
      "9    CAtBat   -0.000000   -0.000000\n",
      "10    CHits   10.262085   66.157744\n",
      "11    CRuns  336.280067  180.220618\n",
      "12   CWalks -123.029009  -32.203122\n"
     ]
    }
   ],
   "source": [
    "res_lasso_5 = linear_model.Lasso(alpha = 5.0).fit(X, base['Salary'])\n",
    "coef_norm_5 = np.linalg.norm(res_lasso_5.coef_, ord=1)\n",
    "\n",
    "lassos = pd.concat([lassos, pd.DataFrame(res_lasso_5.coef_)], axis = 1)\n",
    "lassos.rename(columns = {0: 'lasso 5'}, inplace=True)\n",
    "print(lassos)\n"
   ]
  },
  {
   "cell_type": "markdown",
   "metadata": {},
   "source": [
    "2. Estimate lasso regressions with $\\alpha$ equal to 10 and 200. What is happening to the coefficients? What is happening to the norm of the coefficients? Does this make sense? "
   ]
  },
  {
   "cell_type": "code",
   "execution_count": 20,
   "metadata": {},
   "outputs": [
    {
     "name": "stdout",
     "output_type": "stream",
     "text": [
      "        var     lasso 2     lasso 5    lasso 10\n",
      "0      Hits  289.542400  187.192908   75.623355\n",
      "1       RBI   68.101418   53.895913   39.965107\n",
      "2     HmRun    2.138459    0.000000    0.000000\n",
      "3     Walks  123.811873   84.479341   62.899989\n",
      "4    Errors   -3.454889   -4.387499   -8.154722\n",
      "5     Years  -47.045848  -25.720740   -0.000000\n",
      "6   Assists    4.797088   -0.000000   -0.000000\n",
      "7     AtBat -260.218269 -144.987736   -0.000000\n",
      "8      Runs  -41.705288   -0.000000    0.000000\n",
      "9    CAtBat   -0.000000   -0.000000    0.000000\n",
      "10    CHits   10.262085   66.157744   56.927126\n",
      "11    CRuns  336.280067  180.220618  135.248380\n",
      "12   CWalks -123.029009  -32.203122   -0.000000\n"
     ]
    }
   ],
   "source": [
    "res_lasso_10 = linear_model.Lasso(alpha = 10.0).fit(X, base['Salary'])\n",
    "coef_norm_10 = np.linalg.norm(res_lasso_10.coef_, ord=1)\n",
    "\n",
    "lassos = pd.concat([lassos, pd.DataFrame(res_lasso_10.coef_)], axis = 1)\n",
    "lassos.rename(columns = {0: 'lasso 10'}, inplace=True)\n",
    "print(lassos)"
   ]
  },
  {
   "cell_type": "code",
   "execution_count": 21,
   "metadata": {},
   "outputs": [
    {
     "name": "stdout",
     "output_type": "stream",
     "text": [
      "        var     lasso 2     lasso 5    lasso 10  lasso 200\n",
      "0      Hits  289.542400  187.192908   75.623355   0.000000\n",
      "1       RBI   68.101418   53.895913   39.965107   0.000000\n",
      "2     HmRun    2.138459    0.000000    0.000000   0.000000\n",
      "3     Walks  123.811873   84.479341   62.899989   0.000000\n",
      "4    Errors   -3.454889   -4.387499   -8.154722   0.000000\n",
      "5     Years  -47.045848  -25.720740   -0.000000   0.000000\n",
      "6   Assists    4.797088   -0.000000   -0.000000   0.000000\n",
      "7     AtBat -260.218269 -144.987736   -0.000000   0.000000\n",
      "8      Runs  -41.705288   -0.000000    0.000000   0.000000\n",
      "9    CAtBat   -0.000000   -0.000000    0.000000   0.000000\n",
      "10    CHits   10.262085   66.157744   56.927126   0.000000\n",
      "11    CRuns  336.280067  180.220618  135.248380  53.351392\n",
      "12   CWalks -123.029009  -32.203122   -0.000000   0.000000\n"
     ]
    }
   ],
   "source": [
    "res_lasso_200 = linear_model.Lasso(alpha = 200.0).fit(X, base['Salary'])\n",
    "coef_norm_200 = np.linalg.norm(res_lasso_200.coef_, ord=1)\n",
    "\n",
    "lassos = pd.concat([lassos, pd.DataFrame(res_lasso_200.coef_)], axis = 1)\n",
    "lassos.rename(columns = {0: 'lasso 200'}, inplace=True)\n",
    "print(lassos)"
   ]
  },
  {
   "cell_type": "code",
   "execution_count": 22,
   "metadata": {},
   "outputs": [
    {
     "data": {
      "text/html": [
       "<div>\n",
       "<style scoped>\n",
       "    .dataframe tbody tr th:only-of-type {\n",
       "        vertical-align: middle;\n",
       "    }\n",
       "\n",
       "    .dataframe tbody tr th {\n",
       "        vertical-align: top;\n",
       "    }\n",
       "\n",
       "    .dataframe thead th {\n",
       "        text-align: right;\n",
       "    }\n",
       "</style>\n",
       "<table border=\"1\" class=\"dataframe\">\n",
       "  <thead>\n",
       "    <tr style=\"text-align: right;\">\n",
       "      <th></th>\n",
       "      <th>0</th>\n",
       "    </tr>\n",
       "  </thead>\n",
       "  <tbody>\n",
       "    <tr>\n",
       "      <th>2</th>\n",
       "      <td>1310.386692</td>\n",
       "    </tr>\n",
       "    <tr>\n",
       "      <th>5</th>\n",
       "      <td>779.245621</td>\n",
       "    </tr>\n",
       "    <tr>\n",
       "      <th>10</th>\n",
       "      <td>378.818680</td>\n",
       "    </tr>\n",
       "    <tr>\n",
       "      <th>200</th>\n",
       "      <td>53.351392</td>\n",
       "    </tr>\n",
       "  </tbody>\n",
       "</table>\n",
       "</div>"
      ],
      "text/plain": [
       "               0\n",
       "2    1310.386692\n",
       "5     779.245621\n",
       "10    378.818680\n",
       "200    53.351392"
      ]
     },
     "execution_count": 22,
     "metadata": {},
     "output_type": "execute_result"
    }
   ],
   "source": [
    "pd.DataFrame([coef_norm_2, coef_norm_5, coef_norm_10, coef_norm_200], index=[2, 5, 10, 200])"
   ]
  },
  {
   "cell_type": "markdown",
   "metadata": {},
   "source": [
    "3. Use the `LassoCV()` function [(docs)](https://scikit-learn.org/stable/modules/generated/sklearn.linear_model.LassoCV.html#sklearn.linear_model.LassoCV) to estimate lasso regressions for the following grid of alphas:\n",
    "```python\n",
    "alpha_grid = [1, 1.5, 2, 3, 4, 5, 6, 8, 10]\n",
    "```\n",
    "Set the `cv` parameter to 10. This means the method will use k-fold cross validation with k=10."
   ]
  },
  {
   "cell_type": "code",
   "execution_count": 23,
   "metadata": {},
   "outputs": [],
   "source": [
    "alpha_grid = [1, 1.5, 2, 3, 4, 5, 6, 8, 10]\n",
    "model = linear_model.LassoCV(alphas=alpha_grid, cv=10).fit(X,base['Salary'])"
   ]
  },
  {
   "cell_type": "markdown",
   "metadata": {},
   "source": [
    "4. Which $\\alpha$ worked best? \n",
    "5. Use the `.mse_path_` attribute of the object returned by `LassoCV()` to return a (9,10) sized array. The 9 corresponds to the number of alphas and the 10 corresponds to the test mses from the 10-fold cross validation the function is using. "
   ]
  },
  {
   "cell_type": "code",
   "execution_count": 24,
   "metadata": {},
   "outputs": [
    {
     "name": "stdout",
     "output_type": "stream",
     "text": [
      "2.0\n",
      "[[ 59715.45367525  40325.34629318 248441.91775733 102133.40225221\n",
      "  135626.58114878  91300.43734036 290687.83887259 114133.23332923\n",
      "   75302.6025012  111842.68754428]\n",
      " [ 62267.10326526  40614.58420742 246838.92085146 100362.85290138\n",
      "  133602.83519904  90579.28724818 292537.70413761 118046.56171965\n",
      "   76584.49546511 111928.76197747]\n",
      " [ 67553.82290672  41537.28766873 240442.49097707  96252.73211127\n",
      "  131157.54015128  90802.56340968 289330.92141273 122781.23550956\n",
      "   81206.42903535 106662.7529034 ]\n",
      " [ 70495.39299391  41858.73905725 236679.13919188  92603.36939772\n",
      "  128543.52970488  91294.18805385 285868.64189977 125913.78872457\n",
      "   83177.63932055 101999.64271963]\n",
      " [ 73848.52629952  41151.75163075 230450.94620454  90531.23594616\n",
      "  126024.39306217  92180.97774063 282279.51051265 130457.8941669\n",
      "   84956.6190894   97712.14570727]\n",
      " [ 77864.94959285  40572.59262406 223585.51442406  89141.05713518\n",
      "  124045.91149555  93633.53989815 278629.42032751 135509.24181038\n",
      "   87496.85904708  93943.05276899]\n",
      " [ 82363.27852277  39040.88874203 217331.17261732  88294.3611948\n",
      "  122635.73230375  95001.97024334 275226.84839019 140981.00992522\n",
      "   90909.62133671  89747.2339065 ]\n",
      " [ 83772.81109736  38417.21709388 214169.56781793  88564.61175082\n",
      "  122544.92611894  95752.61354281 275805.36199734 144346.59793267\n",
      "   93796.8815303   87845.34945083]\n",
      " [ 84574.78642875  37773.42708954 210061.95397108  89489.47193079\n",
      "  123220.24273919  96538.0128406  276895.96901921 150193.34993904\n",
      "   97030.5630445   85911.12658242]]\n",
      "(9, 10)\n"
     ]
    }
   ],
   "source": [
    "print(model.alpha_)\n",
    "print(model.mse_path_)\n",
    "print(model.mse_path_.shape)"
   ]
  },
  {
   "cell_type": "markdown",
   "metadata": {},
   "source": [
    "6. Create a plot with $\\alpha$ on the x-axis and the average test mse on the y-axis. To make sure the mse correspond to the correct alpha, use the `.alphas_` attribute of the results object for the x values. "
   ]
  },
  {
   "cell_type": "code",
   "execution_count": 25,
   "metadata": {},
   "outputs": [
    {
     "data": {
      "text/plain": [
       "array([126950.95007144, 127336.31069726, 126772.77760858, 125843.4071064 ,\n",
       "       124959.400036  , 124442.21391238, 124153.21171826, 124501.59383329,\n",
       "       125168.89035851])"
      ]
     },
     "execution_count": 25,
     "metadata": {},
     "output_type": "execute_result"
    }
   ],
   "source": [
    "model.mse_path_.mean(axis=1)"
   ]
  },
  {
   "cell_type": "code",
   "execution_count": 26,
   "metadata": {},
   "outputs": [
    {
     "data": {
      "text/plain": [
       "array([10. ,  8. ,  6. ,  5. ,  4. ,  3. ,  2. ,  1.5,  1. ])"
      ]
     },
     "execution_count": 26,
     "metadata": {},
     "output_type": "execute_result"
    }
   ],
   "source": [
    "model.alphas_"
   ]
  },
  {
   "cell_type": "code",
   "execution_count": 27,
   "metadata": {},
   "outputs": [
    {
     "data": {
      "image/png": "[encoded data removed]",
      "text/plain": [
       "<Figure size 1080x432 with 1 Axes>"
      ]
     },
     "metadata": {},
     "output_type": "display_data"
    }
   ],
   "source": [
    "fig, ax = plt.subplots(figsize=(15,6))\n",
    "\n",
    "ax.plot(model.alphas_, model.mse_path_.mean(axis=1), marker = 'o', color='blue') \n",
    "\n",
    "ax.set_xlabel('tuning parameter')\n",
    "ax.set_ylabel('average test mse (10-fold cv)')\n",
    "ax.set_title('Determining the optimal tuning parameter')\n",
    "\n",
    "ax.spines['top'].set_visible(False)\n",
    "ax.spines['right'].set_visible(False)\n",
    "\n",
    "plt.show()"
   ]
  },
  {
   "cell_type": "markdown",
   "metadata": {},
   "source": [
    "7. Now let the computer sort out the best tuning parameter. Call `LassoCV()` as before, but do not use the 'alphas' argument. The algorithm will search for the best $\\alpha$.  \n",
    "\n",
    "What is the optimal $\\alpha$? \n",
    "\n",
    "What $\\alpha$'s did the algorithm try? \\[Use the `.alphas_` attribute.\\]"
   ]
  },
  {
   "cell_type": "code",
   "execution_count": 28,
   "metadata": {},
   "outputs": [],
   "source": [
    "model_2 = linear_model.LassoCV(cv=10).fit(X,base['Salary'])"
   ]
  },
  {
   "cell_type": "code",
   "execution_count": 29,
   "metadata": {},
   "outputs": [
    {
     "name": "stdout",
     "output_type": "stream",
     "text": [
      "The best alpha for this model is 2.06.\n"
     ]
    }
   ],
   "source": [
    "# Return the alpha that minimizes the test mse\n",
    "print('The best alpha for this model is {0:4.2f}.'.format(model_2.alpha_))"
   ]
  },
  {
   "cell_type": "code",
   "execution_count": 30,
   "metadata": {},
   "outputs": [
    {
     "name": "stdout",
     "output_type": "stream",
     "text": [
      "[2.53351392e+02 2.36276356e+02 2.20352121e+02 2.05501125e+02\n",
      " 1.91651037e+02 1.78734399e+02 1.66688298e+02 1.55454065e+02\n",
      " 1.44976981e+02 1.35206018e+02 1.26093585e+02 1.17595299e+02\n",
      " 1.09669770e+02 1.02278394e+02 9.53851728e+01 8.89565314e+01\n",
      " 8.29611589e+01 7.73698544e+01 7.21553852e+01 6.72923537e+01\n",
      " 6.27570743e+01 5.85274575e+01 5.45829028e+01 5.09041978e+01\n",
      " 4.74734253e+01 4.42738753e+01 4.12899643e+01 3.85071589e+01\n",
      " 3.59119052e+01 3.34915630e+01 3.12343438e+01 2.91292535e+01\n",
      " 2.71660393e+01 2.53351392e+01 2.36276356e+01 2.20352121e+01\n",
      " 2.05501125e+01 1.91651037e+01 1.78734399e+01 1.66688298e+01\n",
      " 1.55454065e+01 1.44976981e+01 1.35206018e+01 1.26093585e+01\n",
      " 1.17595299e+01 1.09669770e+01 1.02278394e+01 9.53851728e+00\n",
      " 8.89565314e+00 8.29611589e+00 7.73698544e+00 7.21553852e+00\n",
      " 6.72923537e+00 6.27570743e+00 5.85274575e+00 5.45829028e+00\n",
      " 5.09041978e+00 4.74734253e+00 4.42738753e+00 4.12899643e+00\n",
      " 3.85071589e+00 3.59119052e+00 3.34915630e+00 3.12343438e+00\n",
      " 2.91292535e+00 2.71660393e+00 2.53351392e+00 2.36276356e+00\n",
      " 2.20352121e+00 2.05501125e+00 1.91651037e+00 1.78734399e+00\n",
      " 1.66688298e+00 1.55454065e+00 1.44976981e+00 1.35206018e+00\n",
      " 1.26093585e+00 1.17595299e+00 1.09669770e+00 1.02278394e+00\n",
      " 9.53851728e-01 8.89565314e-01 8.29611589e-01 7.73698544e-01\n",
      " 7.21553852e-01 6.72923537e-01 6.27570743e-01 5.85274575e-01\n",
      " 5.45829028e-01 5.09041978e-01 4.74734253e-01 4.42738753e-01\n",
      " 4.12899643e-01 3.85071589e-01 3.59119052e-01 3.34915630e-01\n",
      " 3.12343438e-01 2.91292535e-01 2.71660393e-01 2.53351392e-01]\n"
     ]
    }
   ],
   "source": [
    "# What alphas did the algorithm try?\n",
    "print(model_2.alphas_)"
   ]
  },
  {
   "cell_type": "code",
   "execution_count": 31,
   "metadata": {},
   "outputs": [
    {
     "data": {
      "text/plain": [
       "array([[ 92778.09922657, 139459.10170935, 454237.13501842,\n",
       "        188730.7529288 , 261644.21691848, 198356.85749337,\n",
       "        263779.48273845, 136967.34580629, 140917.43323645,\n",
       "        158497.05027099],\n",
       "       [ 86105.51572256, 131322.37190421, 454237.13501842,\n",
       "        181185.85450398, 257096.38780717, 190660.28965341,\n",
       "        260064.87031394, 127952.30137983, 133647.22978981,\n",
       "        154648.16671778],\n",
       "       [ 80322.2515289 , 123583.29706441, 443791.81094178,\n",
       "        174779.58341046, 246668.27410312, 183812.70090209,\n",
       "        256856.83153302, 120846.91128356, 124909.77747591,\n",
       "        151350.55749659],\n",
       "       [ 75311.10992279, 116881.86823464, 430599.40583338,\n",
       "        169353.12538107, 237258.6898839 , 177713.85669398,\n",
       "        254308.03466441, 115592.65983492, 117111.93140332,\n",
       "        148529.05188315],\n",
       "       [ 70970.25096544, 111080.93444263, 418909.3379597 ,\n",
       "        164769.05999668, 228757.86819089, 172275.88085903,\n",
       "        253147.9485904 , 111886.04836348, 110617.71945554,\n",
       "        146118.49711886],\n",
       "       [ 65871.95570139, 106061.34332748, 408540.48317742,\n",
       "        160908.52639048, 220147.3712174 , 167421.69290576,\n",
       "        252469.98801569, 108534.39535939, 105414.19825849,\n",
       "        143163.03059605],\n",
       "       [ 61044.80893861, 100049.04752837, 399334.32786531,\n",
       "        155153.14672957, 212255.44037319, 160318.89620306,\n",
       "        252261.08176307, 105720.57079561, 100970.13264247,\n",
       "        140570.57976042],\n",
       "       [ 56923.7205656 ,  93078.53871532, 391152.09000255,\n",
       "        149860.12205453, 205213.66195787, 153872.62335637,\n",
       "        252434.46209641, 103256.73708422,  97181.06746206,\n",
       "        138373.6403897 ],\n",
       "       [ 53474.65711715,  86300.51707961, 381367.3337608 ,\n",
       "        144806.79761564, 198935.98571035, 148204.82901909,\n",
       "        252861.93948203, 101467.84504978,  93956.48262797,\n",
       "        135822.34959904],\n",
       "       [ 50700.51725638,  80171.64000405, 371048.36890178,\n",
       "        140353.37868126, 192594.05225752, 142945.9632774 ,\n",
       "        253088.55143859,  99833.65531347,  91185.2099167 ,\n",
       "        133088.3091912 ],\n",
       "       [ 48498.47341373,  74826.24576381, 360495.625474  ,\n",
       "        136425.77322198, 186926.62167701, 138035.91285778,\n",
       "        253559.28870199,  98447.83003626,  88705.23856226,\n",
       "        130749.00853754],\n",
       "       [ 46779.62161   ,  70165.65798959, 350088.75845149,\n",
       "        132959.14972867, 181858.68983313, 133164.65924705,\n",
       "        254223.43091076,  97478.34282255,  86582.30431884,\n",
       "        128329.22629948],\n",
       "       [ 45467.75747421,  66100.5985038 , 340741.37740323,\n",
       "        129896.87460988, 177319.70338679, 128832.98442834,\n",
       "        255038.13589789,  96855.74665624,  84767.46350669,\n",
       "        125750.46708177],\n",
       "       [ 44497.58439562,  62555.67472534, 332335.82435099,\n",
       "        127190.06683006, 173250.46055337, 124974.77254463,\n",
       "        255967.81069161,  96518.88667437,  83217.38113052,\n",
       "        123541.18960904],\n",
       "       [ 43813.08175697,  59463.30682753, 324768.17544304,\n",
       "        124794.22024512, 169599.08973532, 121535.92309797,\n",
       "        256981.65335869,  96418.27526139,  81897.60703387,\n",
       "        121652.90556895],\n",
       "       [ 43366.30267097,  56764.68808806, 317946.54784176,\n",
       "        122672.16139649, 166316.56015179, 118466.78128916,\n",
       "        258056.54249937,  96510.17217118,  80775.36927305,\n",
       "        120041.57509627],\n",
       "       [ 43116.39338638,  54409.85897541, 311789.84716954,\n",
       "        120790.80917005, 163363.02436817, 115724.43469156,\n",
       "        259170.77573434,  96758.70068833,  79823.19875158,\n",
       "        118669.60195941],\n",
       "       [ 43027.98150733,  52354.4539135 , 306226.53569756,\n",
       "        119121.2169217 , 160702.29503864, 113270.23329883,\n",
       "        260307.12856215,  97126.69725159,  79015.83673779,\n",
       "        117502.7264958 ],\n",
       "       [ 43145.43048866,  50587.50136846, 301193.69985302,\n",
       "        117638.04620464, 158302.42765152, 111073.06809235,\n",
       "        261451.44768679,  97661.29318634,  78335.73951524,\n",
       "        116512.98136117],\n",
       "       [ 43518.7275655 ,  49135.22821464, 296365.74981667,\n",
       "        116319.22990969, 156135.17991158, 109102.98533309,\n",
       "        262590.93683437,  98255.73854817,  77763.64759958,\n",
       "        115675.60415413],\n",
       "       [ 44002.66910416,  47894.92953333, 291819.65958694,\n",
       "        115145.32206039, 154175.61820529, 107334.23051281,\n",
       "        263718.75635144,  98906.16007769,  77284.15583703,\n",
       "        114969.16819442],\n",
       "       [ 44563.34170422,  46819.27461854, 287711.74882867,\n",
       "        113858.83848388, 152401.18432875, 105744.28492813,\n",
       "        264826.23356647,  99582.06422163,  76882.02114601,\n",
       "        114375.14415244],\n",
       "       [ 45181.33457953,  45887.06282621, 283989.15331806,\n",
       "        112691.85651922, 150793.23982208, 104313.40092388,\n",
       "        265907.45881172, 100272.3761872 ,  76549.70971842,\n",
       "        113877.90990738],\n",
       "       [ 45840.40041439,  45078.97984914, 280612.51587313,\n",
       "        111643.29933775, 149334.35706524, 103024.09515253,\n",
       "        266957.89817413, 100968.3961524 ,  76275.42976535,\n",
       "        113462.78669341],\n",
       "       [ 46526.99976624,  44378.82815053, 277545.27925938,\n",
       "        110700.44199843, 148010.0849988 , 101860.94571577,\n",
       "        267974.08932358, 101663.12929007,  76050.56705961,\n",
       "        113118.26377664],\n",
       "       [ 47229.90844408,  43772.64189465, 274756.80168819,\n",
       "        109851.52203075, 146800.37996173, 100809.84860807,\n",
       "        268953.5933443 , 102350.46939604,  75867.75626262,\n",
       "        112834.04246898],\n",
       "       [ 47939.87877371,  43247.58467476, 272215.47636411,\n",
       "        109086.24648594, 145690.5297757 ,  99862.32279549,\n",
       "        269894.77097033, 103025.98670611,  75720.61356922,\n",
       "        112601.23089187],\n",
       "       [ 48649.34749191,  42793.08176185, 269903.72653465,\n",
       "        108395.53536149, 144684.54130726,  99002.61977853,\n",
       "        270796.59790538, 103685.78470774,  75603.73795352,\n",
       "        112412.16308593],\n",
       "       [ 49352.18402268,  42399.81815572, 267791.42607756,\n",
       "        107771.48963105, 143770.73790207,  98222.56998535,\n",
       "        271658.5895887 , 104327.2206274 ,  75512.43668351,\n",
       "        112260.23083671],\n",
       "       [ 50043.14656389,  42059.92627277, 265857.4615218 ,\n",
       "        107206.99443483, 142939.77033195,  97514.42352203,\n",
       "        272480.40893906, 104947.96294309,  75442.68095146,\n",
       "        112139.72447179],\n",
       "       [ 50718.64649859,  41765.91748259, 264094.12692731,\n",
       "        106695.91069031, 142183.27365848,  96872.27569828,\n",
       "        273262.56511441, 105546.6252313 ,  75391.01381607,\n",
       "        112045.77583046],\n",
       "       [ 51374.65523252,  41511.82990166, 262477.41694355,\n",
       "        106232.05730357, 141493.82597239,  96285.79555612,\n",
       "        274005.30976844, 106122.08307184,  75354.29624507,\n",
       "        111974.08817475],\n",
       "       [ 52010.0978017 ,  41292.37531987, 260988.13236951,\n",
       "        105810.50196353, 140864.81574941,  95728.43540884,\n",
       "        275521.7641438 , 106673.55420484,  75330.09706748,\n",
       "        111921.12451654],\n",
       "       [ 52623.10127213,  41103.17727697, 259612.57572212,\n",
       "        105426.84618697, 140290.34696015,  95200.71004015,\n",
       "        277073.68935473, 107200.85728078,  75315.91294181,\n",
       "        111883.9952554 ],\n",
       "       [ 53212.47947446,  40939.8120083 , 258350.91035716,\n",
       "        105073.07416644, 139765.16131827,  94718.69597368,\n",
       "        278513.71489859, 107703.90325481,  75312.25358141,\n",
       "        111860.30044473],\n",
       "       [ 53777.48983516,  40798.94143419, 257189.86100878,\n",
       "        104734.38965891, 139284.58263175,  94278.42561593,\n",
       "        279858.23101132, 108182.76574768,  75314.29688675,\n",
       "        111831.48133062],\n",
       "       [ 54318.21586727,  40677.5747109 , 256121.5476648 ,\n",
       "        104409.39177309, 138844.37473341,  93875.79717827,\n",
       "        281131.04121146, 108651.86025885,  75323.5877375 ,\n",
       "        111794.05747642],\n",
       "       [ 54834.21773988,  40573.32468877, 255133.32462745,\n",
       "        104109.54996064, 138440.78387216,  93506.9732262 ,\n",
       "        282334.47576687, 109164.53003089,  75336.18011372,\n",
       "        111759.64248969],\n",
       "       [ 55325.0732754 ,  40483.5247173 , 254222.21758612,\n",
       "        103835.45166483, 138070.43859749,  93169.14225671,\n",
       "        283471.06751323, 109652.56420213,  75327.83884758,\n",
       "        111743.36603988],\n",
       "       [ 55780.4870866 ,  40406.32424599, 253381.67198392,\n",
       "        103584.54281952, 137730.31098597,  92849.3090553 ,\n",
       "        284543.31915811, 110116.39993515,  75316.7496922 ,\n",
       "        111748.17534249],\n",
       "       [ 56212.11925767,  40340.76707984, 252605.74507296,\n",
       "        103354.3323243 , 137382.20847897,  92562.06182258,\n",
       "        285554.20517012, 110556.41827856,  75297.06009817,\n",
       "        111756.85156446],\n",
       "       [ 56624.09668542,  40322.04590074, 251889.05046117,\n",
       "        103143.04381462, 137035.689017  ,  92304.79439695,\n",
       "        286506.36681534, 110973.28970335,  75281.53692378,\n",
       "        111769.04090719],\n",
       "       [ 57017.38150694,  40309.14823383, 251226.69962274,\n",
       "        102949.27456003, 136718.49975507,  92074.02549078,\n",
       "        287402.52349271, 111367.73347817,  75270.01837648,\n",
       "        111783.84893655],\n",
       "       [ 57391.75763968,  40300.71314271, 250614.02138566,\n",
       "        102771.04591099, 136427.83835999,  91866.76213049,\n",
       "        288245.26120368, 111740.58313865,  75261.34644457,\n",
       "        111800.62482317],\n",
       "       [ 57747.44681767,  40296.08196763, 249930.3528762 ,\n",
       "        102567.98110845, 136161.25859081,  91680.38246117,\n",
       "        289037.46625173, 112092.55198372,  75255.55404935,\n",
       "        111818.84539797],\n",
       "       [ 58192.57046231,  40294.38310679, 249266.92133702,\n",
       "        102378.78778037, 135916.55454032,  91512.38666611,\n",
       "        289781.66885962, 112424.51874448,  75251.67083423,\n",
       "        111837.81562307],\n",
       "       [ 59294.27465812,  40301.67642512, 248653.95523311,\n",
       "        102206.45149695, 135691.78320989,  91361.07776478,\n",
       "        290480.39132522, 113657.3804945 ,  75265.55443646,\n",
       "        111857.62480012],\n",
       "       [ 60190.92063735,  40348.1319051 , 248087.23871594,\n",
       "        102035.50081117, 135485.09092329,  91115.41803167,\n",
       "        291136.08625794, 114958.50729519,  75426.27038434,\n",
       "        111877.84578303],\n",
       "       [ 60916.51082533,  40413.86505005, 247562.69727485,\n",
       "        101840.1433569 , 134870.93395661,  90866.88167993,\n",
       "        291737.95633086, 116181.59623345,  75693.17919813,\n",
       "        111898.20001846],\n",
       "       [ 61589.92448066,  40519.23659507, 247077.37258314,\n",
       "        100997.8783607 , 134005.86164579,  90676.44677647,\n",
       "        292272.50899197, 117409.70497891,  76034.27126778,\n",
       "        111918.22852   ],\n",
       "       [ 62916.63345362,  40688.9063804 , 246627.75790594,\n",
       "         99804.87022734, 133258.09334645,  90493.06630303,\n",
       "        292773.94004526, 118636.8439719 ,  77175.21050207,\n",
       "        111938.1809194 ],\n",
       "       [ 64246.11939512,  40896.35605196, 245250.25852947,\n",
       "         98703.20742796, 132610.78085741,  90444.42600929,\n",
       "        292139.53102351, 119850.49513355,  78308.4254744 ,\n",
       "        111476.42718675],\n",
       "       [ 65533.91454989,  41128.07712995, 243293.47205782,\n",
       "         97704.0746682 , 132050.07557862,  90556.2334117 ,\n",
       "        291130.88368065, 121043.07553442,  79424.67806225,\n",
       "        109614.50331011],\n",
       "       [ 66777.89806236,  41376.33780801, 241514.93349391,\n",
       "         96801.00190362, 131564.54779863,  90698.31991006,\n",
       "        290206.83626734, 122208.14363998,  80513.08495406,\n",
       "        107839.23966895],\n",
       "       [ 67974.88924202,  41635.99087965, 239887.64218791,\n",
       "         95762.44338115, 130878.69743927,  90863.90207378,\n",
       "        288867.75109127, 123056.03613985,  81571.2500594 ,\n",
       "        106058.38611827],\n",
       "       [ 69122.47453842,  41901.84701145, 238395.05266889,\n",
       "         94263.0305422 , 129866.78020564,  91046.87706607,\n",
       "        287573.22273384, 124000.69558304,  82594.48787804,\n",
       "        104140.01216465],\n",
       "       [ 70221.23335897,  41928.6936318 , 237024.89482676,\n",
       "         92916.02481812, 128796.20073431,  91242.6270553 ,\n",
       "        286202.08958186, 125527.92290843,  83074.26909497,\n",
       "        102413.18125073],\n",
       "       [ 71270.21622816,  41667.89078209, 235728.73580954,\n",
       "         91916.54906138, 127859.3690527 ,  91446.71553115,\n",
       "        284945.01555931, 127014.02235956,  83548.08334666,\n",
       "        100866.92270948],\n",
       "       [ 72279.56367136,  41437.8659099 , 233609.94657636,\n",
       "         91271.00321987, 127039.24983652,  91702.53682603,\n",
       "        283791.66855854, 128453.78273938,  84185.50097099,\n",
       "         99480.42879511],\n",
       "       [ 73369.4491701 ,  41235.27155517, 231381.09891752,\n",
       "         90750.17149354, 126320.98119442,  91994.81274114,\n",
       "        282732.44517878, 129843.29956368,  84739.62700965,\n",
       "         98235.8899011 ],\n",
       "       [ 74408.38766107,  41056.75271154, 229387.35553936,\n",
       "         90279.57728874, 125686.25171494,  92401.90452861,\n",
       "        281758.84248371, 131179.84355993,  85216.87272488,\n",
       "         97117.3334929 ],\n",
       "       [ 75397.33829023,  40899.36620633, 227570.462352  ,\n",
       "         89889.33934345, 125123.2099435 ,  92801.02450712,\n",
       "        280863.44077622, 132461.66648067,  85751.15163635,\n",
       "         96110.91328673],\n",
       "       [ 76371.64556918,  40760.54201799, 225913.29750039,\n",
       "         89562.53883357, 124647.67079863,  93190.0733235 ,\n",
       "        280006.88798929, 133687.93172706,  86436.05654894,\n",
       "         95204.04240995],\n",
       "       [ 77331.81910799,  40637.16980717, 224400.0307607 ,\n",
       "         89286.94022626, 124247.31994181,  93481.27927725,\n",
       "        279111.95550514, 134858.27729727,  87107.30358951,\n",
       "         94386.25440174],\n",
       "       [ 78243.25727723,  40474.93567337, 223016.74479847,\n",
       "         89055.08920358, 123909.51094518,  93743.71622661,\n",
       "        278291.98212385, 135973.06559977,  87762.31767729,\n",
       "         93634.46218962],\n",
       "       [ 79105.79948276,  40089.77516965, 221751.0243261 ,\n",
       "         88859.93304451, 123621.57138127,  94000.99611848,\n",
       "        277551.21163104, 137032.91614399,  88397.21199551,\n",
       "         92772.50570848],\n",
       "       [ 79921.76291492,  39744.44026793, 220592.06726751,\n",
       "         88698.1667783 , 123357.75871889,  94251.72665571,\n",
       "        276871.82656878, 138024.36114992,  89008.76873733,\n",
       "         91965.36182684],\n",
       "       [ 80692.91833147,  39502.11164414, 219529.38201696,\n",
       "         88564.1013888 , 123106.73787809,  94494.91674547,\n",
       "        276235.18048143, 138953.57632035,  89598.62070911,\n",
       "         91233.76205862],\n",
       "       [ 81421.03100102,  39293.31909281, 218554.57879666,\n",
       "         88450.03481632, 122885.80598596,  94719.61709092,\n",
       "        275638.71587992, 139834.56309269,  90163.14002165,\n",
       "         90569.83752741],\n",
       "       [ 82106.72178182,  39107.44968491, 217659.44316505,\n",
       "         88336.58499882, 122696.62559209,  94921.95679218,\n",
       "        275230.02875164, 140668.86700009,  90704.69168343,\n",
       "         89966.74917362],\n",
       "       [ 82753.88054602,  38928.95287134, 216836.76241842,\n",
       "         88244.57183741, 122534.99437112,  95120.39088761,\n",
       "        275098.43482986, 141457.852176  ,  91220.77316792,\n",
       "         89418.14617973],\n",
       "       [ 83217.56084965,  38762.83415327, 216080.07251571,\n",
       "         88211.78157866, 122397.78257988,  95311.29475066,\n",
       "        275272.4183933 , 142203.20023585,  92026.98948166,\n",
       "         88927.75809108],\n",
       "       [ 83447.69085084,  38613.70120042, 215383.55636981,\n",
       "         88326.44614143, 122423.25759891,  95493.99035098,\n",
       "        275487.6514383 , 142906.61608518,  92761.14397566,\n",
       "         88473.66621439],\n",
       "       [ 83665.4192224 ,  38480.22322876, 214616.54140865,\n",
       "         88480.2542748 , 122499.88094732,  95668.03034366,\n",
       "        275699.11019377, 143683.73043708,  93455.94838545,\n",
       "         88056.29595816],\n",
       "       [ 83872.58181966,  38360.74695788, 213759.93440247,\n",
       "         88645.0312507 , 122590.71171245,  95834.04246226,\n",
       "        275905.70540639, 144769.391332  ,  94112.83271554,\n",
       "         87639.85256187],\n",
       "       [ 84071.26290195,  38252.86241734, 212967.88643081,\n",
       "         88809.41457731, 122692.22964685,  95991.87617214,\n",
       "        276106.54741145, 145888.32214947,  94733.19718002,\n",
       "         87232.78567864],\n",
       "       [ 84257.28499284,  38156.73250834, 212235.4203748 ,\n",
       "         88972.22502872, 122801.55788728,  96141.42369828,\n",
       "        276301.19291214, 146961.5327999 ,  95318.49496003,\n",
       "         86883.38232176],\n",
       "       [ 84355.43630718,  38039.64820135, 211539.18785898,\n",
       "         89132.34008062, 122916.41680022,  96283.40399713,\n",
       "        276488.72492123, 147988.40074573,  95870.21244161,\n",
       "         86565.19992347],\n",
       "       [ 84413.7151756 ,  37917.79884321, 210880.99280727,\n",
       "         89288.86559834, 123047.94527216,  96417.54890211,\n",
       "        276668.98588183, 148968.37894074,  96389.85000216,\n",
       "         86266.75057417],\n",
       "       [ 84531.26263789,  37807.69776025, 210261.347322  ,\n",
       "         89441.36289166, 123178.45465039,  96527.4746334 ,\n",
       "        276841.78914079, 149902.0092485 ,  96878.90620284,\n",
       "         85993.86985934],\n",
       "       [ 84644.8289779 ,  37706.10212424, 209687.92666814,\n",
       "         89588.80349932, 123307.40423091,  96560.2541356 ,\n",
       "        277007.2403108 , 150789.57294106,  97338.8649788 ,\n",
       "         85745.92145349],\n",
       "       [ 84753.42817113,  37613.98387265, 209155.46822207,\n",
       "         89731.03897311, 123433.86298867,  96592.81920471,\n",
       "        277165.13472911, 151632.26920394,  97771.18537685,\n",
       "         85520.40300667],\n",
       "       [ 84857.04405566,  37382.4937474 , 208662.30446075,\n",
       "         89867.82371533, 123557.28829494,  96625.24553484,\n",
       "        277315.4988013 , 152431.07299573,  98177.2934497 ,\n",
       "         85315.0584886 ],\n",
       "       [ 84955.70359473,  37111.23928656, 208207.19198038,\n",
       "         89983.91429314, 123677.13821052,  96657.16702128,\n",
       "        277443.36697871, 153187.25547391,  98558.57597071,\n",
       "         85127.89192247],\n",
       "       [ 85049.48192082,  36869.73809544, 207729.38552312,\n",
       "         90028.91738956, 123793.03282704,  96688.39271153,\n",
       "        277455.14580553, 153902.4042373 ,  98916.55126862,\n",
       "         84957.09573777],\n",
       "       [ 85138.48198431,  36651.39910284, 207221.90746004,\n",
       "         90057.64110855, 123904.75266339,  96718.66095561,\n",
       "        277468.46479959, 154577.87865344,  99252.16880815,\n",
       "         84801.09542293],\n",
       "       [ 85222.81984802,  36453.53989752, 206752.27962677,\n",
       "         90089.88434589, 124012.02231372,  96748.09651047,\n",
       "        277482.31679277, 155215.2326407 ,  99566.8670206 ,\n",
       "         84658.46023337],\n",
       "       [ 85302.63912052,  36274.17139694, 206316.01494637,\n",
       "         90124.79074519, 124114.81900489,  96776.40357916,\n",
       "        277496.62590189, 155816.07427016,  99843.49750319,\n",
       "         84527.9176018 ],\n",
       "       [ 85378.09046808,  36111.25162082, 205910.78604247,\n",
       "         90161.55509655, 124213.0568461 ,  96803.73129201,\n",
       "        277511.12514129, 156382.18942013, 100036.63039251,\n",
       "         84408.34141946],\n",
       "       [ 85449.34176749,  35963.15523059, 205532.05358175,\n",
       "         90199.49222245, 124306.77682714,  96829.84839451,\n",
       "        277525.73364287, 156915.06166133, 100195.89519648,\n",
       "         84298.69172626],\n",
       "       [ 85516.55934777,  35828.38835391, 205114.5392391 ,\n",
       "         90238.05973521, 124395.93383846,  96854.92121172,\n",
       "        277540.15415167, 157416.28038442, 100344.96993184,\n",
       "         84198.07418769],\n",
       "       [ 85579.91506469,  35705.61708637, 204696.61267332,\n",
       "         90276.80225395, 124480.67662348,  96878.71672504,\n",
       "        277554.51144344, 157849.65681295, 100484.8414941 ,\n",
       "         84105.66016024],\n",
       "       [ 85639.58347145,  35593.5968471 , 204307.19661313,\n",
       "         90315.33949874, 124561.06969154,  96856.07886513,\n",
       "        277588.50811443, 158251.0507558 , 100616.02505681,\n",
       "         84020.72163412],\n",
       "       [ 85695.73628053,  35491.37751909, 203945.16196763,\n",
       "         90353.38626905, 124630.71872256,  96783.06392551,\n",
       "        277725.90210556, 158627.99404549, 100738.97052382,\n",
       "         83942.57470755],\n",
       "       [ 85748.54459606,  35397.91922303, 203608.6021282 ,\n",
       "         90390.69111779, 124664.95516269,  96712.90390426,\n",
       "        277854.81088653, 158981.90919517, 100854.18161721,\n",
       "         83870.63902697],\n",
       "       [ 85798.1777754 ,  35312.42191954, 203295.6756825 ,\n",
       "         90427.0668423 , 124697.71795512,  96648.28990636,\n",
       "        277975.7156947 , 159313.82907429, 100962.11236207,\n",
       "         83804.36727708],\n",
       "       [ 85844.80081222,  35234.09275079, 203004.66809425,\n",
       "         90462.37872801, 124729.001341  ,  96588.77463276,\n",
       "        278089.19663694, 159625.18442991, 101063.19068666,\n",
       "         83743.27071471],\n",
       "       [ 85888.57178717,  35162.34133252, 202733.99381499,\n",
       "         90496.51532607, 124758.80505839,  96533.92339084,\n",
       "        278195.47621479, 159917.05867743, 101157.79141304,\n",
       "         83686.908262  ],\n",
       "       [ 85929.64499684,  35096.48901703, 202482.12442382,\n",
       "         90529.39634096, 124787.14626455,  96483.27083609,\n",
       "        278295.14866119, 160190.55966256, 101246.35895855,\n",
       "         83634.88964086],\n",
       "       [ 85968.1694831 ,  35036.06214285, 202247.82382599,\n",
       "         90560.97272607, 124814.0784604 ,  96436.51557388,\n",
       "        278388.52774451, 160446.85996338, 101329.21033519,\n",
       "         83586.83656537]])"
      ]
     },
     "execution_count": 31,
     "metadata": {},
     "output_type": "execute_result"
    }
   ],
   "source": [
    "model_2.mse_path_"
   ]
  },
  {
   "cell_type": "markdown",
   "metadata": {},
   "source": [
    "8. Using the `mse_path_` and `alphas_` attributes, create a plot with $\\alpha$ on the x-axis and the average test mse on the y-axis."
   ]
  },
  {
   "cell_type": "code",
   "execution_count": 32,
   "metadata": {},
   "outputs": [
    {
     "data": {
      "image/png": "[encoded data removed]",
      "text/plain": [
       "<Figure size 1080x432 with 1 Axes>"
      ]
     },
     "metadata": {},
     "output_type": "display_data"
    }
   ],
   "source": [
    "fig, ax = plt.subplots(figsize=(15,6))\n",
    "\n",
    "ax.plot(model_2.alphas_, model_2.mse_path_.mean(axis=1), marker = 'o', color='blue') \n",
    "\n",
    "ax.set_xlabel('tuning parameter')\n",
    "ax.set_ylabel('average test mse (10-fold cv)')\n",
    "ax.set_title('Let the algorithm determine the optimal tuning parameter')\n",
    "\n",
    "ax.spines['top'].set_visible(False)\n",
    "ax.spines['right'].set_visible(False)\n",
    "\n",
    "plt.show()"
   ]
  },
  {
   "cell_type": "markdown",
   "metadata": {},
   "source": [
    "9. Display the optimal coefficient vector. Did the lasso eliminate any variables? "
   ]
  },
  {
   "cell_type": "code",
   "execution_count": 34,
   "metadata": {},
   "outputs": [
    {
     "name": "stdout",
     "output_type": "stream",
     "text": [
      "        var        coef\n",
      "0      Hits  286.786874\n",
      "1       RBI   68.325339\n",
      "2     HmRun    1.474243\n",
      "3     Walks  122.818539\n",
      "4    Errors   -3.312956\n",
      "5     Years  -46.653438\n",
      "6   Assists    4.403061\n",
      "7     AtBat -257.913655\n",
      "8      Runs  -39.978953\n",
      "9    CAtBat   -0.000000\n",
      "10    CHits   11.966717\n",
      "11    CRuns  332.473667\n",
      "12   CWalks -121.022429\n",
      "        var        coef\n",
      "0      Hits  309.382723\n",
      "1       RBI   61.508414\n",
      "2     HmRun   21.763078\n",
      "3     Walks  140.610067\n",
      "4    Errors  -12.050349\n",
      "5     Years  -47.933631\n",
      "6   Assists   19.984472\n",
      "7     AtBat -277.165125\n",
      "8      Runs  -70.493630\n",
      "9    CAtBat -173.607372\n",
      "10    CHits  177.955937\n",
      "11    CRuns  355.839427\n",
      "12   CWalks -139.569671\n"
     ]
    }
   ],
   "source": [
    "best_coef_lasso = pd.DataFrame({'var':var_list, 'coef': model_2.coef_}) \n",
    "print(best_coef_lasso)\n",
    "print(best_coef_ridge)"
   ]
  },
  {
   "cell_type": "code",
   "execution_count": null,
   "metadata": {},
   "outputs": [],
   "source": []
  }
 ],
 "metadata": {
  "celltoolbar": "Attachments",
  "kernelspec": {
   "display_name": "Python 3",
   "language": "python",
   "name": "python3"
  },
  "language_info": {
   "codemirror_mode": {
    "name": "ipython",
    "version": 3
   },
   "file_extension": ".py",
   "mimetype": "text/x-python",
   "name": "python",
   "nbconvert_exporter": "python",
   "pygments_lexer": "ipython3",
   "version": "3.6.5"
  }
 },
 "nbformat": 4,
 "nbformat_minor": 2
}
